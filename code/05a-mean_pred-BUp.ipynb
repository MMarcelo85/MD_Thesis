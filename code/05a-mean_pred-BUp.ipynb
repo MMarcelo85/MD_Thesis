{
 "cells": [
  {
   "cell_type": "markdown",
   "id": "a62c231c",
   "metadata": {},
   "source": [
    "### Librerías"
   ]
  },
  {
   "cell_type": "code",
   "execution_count": 1,
   "id": "7460dcd7",
   "metadata": {},
   "outputs": [],
   "source": [
    "import numpy as np\n",
    "import pandas as pd\n",
    "\n",
    "import matplotlib.pyplot as plt\n",
    "import seaborn as sns\n",
    "from tqdm import tqdm\n",
    "from sklearn.model_selection import StratifiedKFold, RepeatedStratifiedKFold\n",
    "from sklearn.preprocessing import MinMaxScaler\n",
    "from sklearn.ensemble import RandomForestClassifier\n",
    "from sklearn.svm import SVC\n",
    "from sklearn.model_selection import train_test_split\n",
    "from sklearn.metrics import roc_auc_score, roc_curve, precision_recall_curve, accuracy_score, recall_score, f1_score, precision_score, confusion_matrix, ConfusionMatrixDisplay\n",
    "\n",
    "import lightgbm\n",
    "import xgboost\n",
    "\n",
    "import os\n",
    "from datetime import date\n",
    "import pickle\n",
    "import warnings\n",
    "warnings.simplefilter(action='ignore', category=FutureWarning)\n",
    "pd.options.mode.chained_assignment = None\n",
    "\n",
    "# sns.set(style='whitegrid', rc={\"grid.linewidth\": 0.5})\n",
    "# font = {'family' : 'arial',\n",
    "#         'weight' : 'normal',\n",
    "#         'size'   : 22}\n",
    "# plt.rc('font', **font)\n",
    "plt.rcParams['figure.autolayout']= True # salva los gráficos sin cortat tiítulos de ejes"
   ]
  },
  {
   "cell_type": "code",
   "execution_count": 2,
   "id": "6d743875",
   "metadata": {},
   "outputs": [
    {
     "data": {
      "text/plain": [
       "'/home/marcelo/GitRepos/Tesis/code'"
      ]
     },
     "execution_count": 2,
     "metadata": {},
     "output_type": "execute_result"
    }
   ],
   "source": [
    "os.getcwd()"
   ]
  },
  {
   "cell_type": "code",
   "execution_count": 3,
   "id": "27384c0e",
   "metadata": {},
   "outputs": [
    {
     "name": "stdout",
     "output_type": "stream",
     "text": [
      "Directory created!\n",
      "Directory created!\n"
     ]
    }
   ],
   "source": [
    "# Dir creation\n",
    "# Dir for saving results\n",
    "# Today\n",
    "now = str(date.today())\n",
    "\n",
    "# Parent Directory path\n",
    "parent_dir = \"/home/marcelo/GitRepos/Tesis/\" # desktop\n",
    "results_dir = \"/home/marcelo/GitRepos/Tesis/pred_results/\" #desktop\n",
    "# parent_dir = \"/home/mm/Tesis/\" # ssh\n",
    "# results_dir = \"/home/mm/Tesis/pred_results/\" # ssh\n",
    "\n",
    "# Path\n",
    "path = os.path.join(results_dir, now)\n",
    "try:\n",
    "    os.makedirs(path)\n",
    "    print('Directory created!')\n",
    "except FileExistsError:\n",
    "    print('Directory already exsist!')\n",
    "    pass\n",
    "\n",
    "path_res = os.path.join(path, 'mean_res')\n",
    "# path_results = os.path.join(path, 'graphs2')\n",
    "try:\n",
    "    os.makedirs(path_res)\n",
    "    print('Directory created!')\n",
    "except FileExistsError:\n",
    "    print('Directory already exsist!')\n",
    "    pass\n"
   ]
  },
  {
   "cell_type": "code",
   "execution_count": 4,
   "id": "ac722293",
   "metadata": {},
   "outputs": [
    {
     "name": "stdout",
     "output_type": "stream",
     "text": [
      "Directory created!\n",
      "Directory created!\n",
      "Directory created!\n",
      "Directory created!\n",
      "Directory created!\n"
     ]
    }
   ],
   "source": [
    "for i in ['RandomForest', 'SVM_rbf', 'SVM_poly', 'LightGBM', 'XGBoost']:\n",
    "    \n",
    "    path_res2 = os.path.join(path_res, i)\n",
    "    # path_results = os.path.join(path, 'graphs2')\n",
    "    try:\n",
    "        os.makedirs(path_res2)\n",
    "        print('Directory created!')\n",
    "    except FileExistsError:\n",
    "        print('Directory already exsist!')\n",
    "        pass"
   ]
  },
  {
   "cell_type": "code",
   "execution_count": 5,
   "id": "96187890",
   "metadata": {},
   "outputs": [],
   "source": [
    "# Data path\n",
    "data_path ='../data/' # Desktop\n",
    "# data_path ='/home/mm/Tesis/data/' # ssh\n",
    "\n",
    "# Load data \n",
    "df = pd.read_csv(data_path+'clean_data.csv')\n",
    "# Drop participants with no MMSE or MoCA or ACE-III\n",
    "df = df.dropna(subset='mmse_vs')\n",
    "df.isna().sum()\n",
    "df.shape # 1613, 48\n",
    "df = df.drop(['aod', 'yod', 'laterality', 'income_sources' ], axis=1)\n",
    "df['years_education']=df['years_education'].astype('float')\n",
    "df['nationality'].unique()\n",
    "nat_dictionary = {'Argentina':1, 'Chilena':2, 'Colombiana': 3, 'Mexicana':4, 'PERUANA':5, 'Española':6, 'Alemana':7}\n",
    "# Tiramos un espaqñol y un alemán\n",
    "df = df.loc[(df['nationality']!='Española') & (df['nationality']!='Alemana')]\n",
    "# Reemplazamos\n",
    "df['nationality'] = df['nationality'].replace(nat_dictionary)\n",
    "\n",
    "# Idem con Residencia\n",
    "df['country_of_residence'].unique()\n",
    "res_dictionary = {'Argentina':1, 'Chile':2, 'Colombia': 3, 'Mexico':4, 'Peru':5, 'Panamá':6}\n",
    "df['country_of_residence'] = df['country_of_residence'].replace(res_dictionary)\n"
   ]
  },
  {
   "cell_type": "code",
   "execution_count": 6,
   "id": "55975479",
   "metadata": {},
   "outputs": [
    {
     "name": "stdout",
     "output_type": "stream",
     "text": [
      "<class 'pandas.core.frame.DataFrame'>\n",
      "Int64Index: 1611 entries, 0 to 1930\n",
      "Data columns (total 44 columns):\n",
      " #   Column                Non-Null Count  Dtype  \n",
      "---  ------                --------------  -----  \n",
      " 0   site                  1611 non-null   object \n",
      " 1   id                    1611 non-null   object \n",
      " 2   diagnosis             1611 non-null   object \n",
      " 3   year_birth            1582 non-null   float64\n",
      " 4   sex                   1611 non-null   float64\n",
      " 5   years_education       1605 non-null   float64\n",
      " 6   moca_total            620 non-null    float64\n",
      " 7   aceiii_total          489 non-null    float64\n",
      " 8   mmse_total            1288 non-null   float64\n",
      " 9   ifs_total_score       680 non-null    float64\n",
      " 10  mini_sea_total        421 non-null    float64\n",
      " 11  barthel_total         383 non-null    float64\n",
      " 12  pfeffer_total         443 non-null    float64\n",
      " 13  cdr_sumofboxes        792 non-null    float64\n",
      " 14  cdr_global            936 non-null    float64\n",
      " 15  npi_total             547 non-null    float64\n",
      " 16  npi_total_caregiver   290 non-null    float64\n",
      " 17  nationality           1611 non-null   int64  \n",
      " 18  country_of_residence  1611 non-null   int64  \n",
      " 19  marital_status        554 non-null    float64\n",
      " 20  n_children            548 non-null    float64\n",
      " 21  household_members     205 non-null    float64\n",
      " 22  household_income      449 non-null    float64\n",
      " 23  Job_status            565 non-null    float64\n",
      " 24  mmse_vs               1611 non-null   float64\n",
      " 25  mmse_lw               1611 non-null   float64\n",
      " 26  moca_vs               1611 non-null   float64\n",
      " 27  moca_lw               1611 non-null   float64\n",
      " 28  ace_vs                1611 non-null   float64\n",
      " 29  ace_lw                1611 non-null   float64\n",
      " 30  cognition             1611 non-null   float64\n",
      " 31  functionality         826 non-null    float64\n",
      " 32  income_s_NaN          1611 non-null   int64  \n",
      " 33  income_s_1            1611 non-null   int64  \n",
      " 34  income_s_2            1611 non-null   int64  \n",
      " 35  income_s_3            1611 non-null   int64  \n",
      " 36  income_s_4            1611 non-null   int64  \n",
      " 37  income_s_5            1611 non-null   int64  \n",
      " 38  income_s_6            1611 non-null   int64  \n",
      " 39  income_s_7            1611 non-null   int64  \n",
      " 40  income_s_8            1611 non-null   int64  \n",
      " 41  income_s_9            1611 non-null   int64  \n",
      " 42  income_s_10           1611 non-null   int64  \n",
      " 43  income_s_11           1611 non-null   int64  \n",
      "dtypes: float64(27), int64(14), object(3)\n",
      "memory usage: 566.4+ KB\n"
     ]
    },
    {
     "data": {
      "text/plain": [
       "Series([], dtype: int64)"
      ]
     },
     "execution_count": 6,
     "metadata": {},
     "output_type": "execute_result"
    }
   ],
   "source": [
    "# Salvamos el df a modelar\n",
    "df.to_csv(\"../data/data_to_model.csv\", index=False) # Desktop\n",
    "# df.to_csv(\"/home/mm/Tesis/data/data_to_model.csv\", index=False) # ssh\n",
    "\n",
    "df.info()\n",
    "df.isna().sum()[df.isna().sum()>0]\n",
    "# impute mean by Diagnosis group\n",
    "grouped = df.groupby('diagnosis')\n",
    "\n",
    "def impute_mean(group):\n",
    "    return group.fillna(group.mean())\n",
    "\n",
    "nan_cols = df.isna().sum()[df.isna().sum()>0].index.tolist()\n",
    "\n",
    "for i in nan_cols:\n",
    "    df[i] = df[i].transform(impute_mean)\n",
    "\n",
    "df.drop(['nationality', 'country_of_residence'], axis=1, inplace=True)\n",
    "df.isna().sum()[df.isna().sum()>0]"
   ]
  },
  {
   "cell_type": "code",
   "execution_count": 7,
   "id": "c5f18a42",
   "metadata": {},
   "outputs": [],
   "source": [
    "#### Librerías \n",
    "# cambiamos el dir de trabajo\n",
    "os.chdir(\"/home/marcelo/GitRepos/Tesis/code\") # desktop\n",
    "# os.chdir(\"/home/mm/Tesis/code\") # ssh\n",
    "\n",
    "import py_funs\n",
    "import stats_funs\n",
    "import ml_hparams_clf as bhs # Bayes search\n",
    "import ml_bootstrap_clf as bc # boostraping classifiers\n",
    "import ml_plotting"
   ]
  },
  {
   "cell_type": "code",
   "execution_count": 8,
   "id": "6fa00108",
   "metadata": {},
   "outputs": [
    {
     "data": {
      "text/plain": [
       "(1290, 40)"
      ]
     },
     "execution_count": 8,
     "metadata": {},
     "output_type": "execute_result"
    }
   ],
   "source": [
    "####   Separate df between train and test (25%)\n",
    "# Make strata column\n",
    "df['strata'] = df.diagnosis + \" / \" + df.site\n",
    "\n",
    "test = py_funs.stratified_sample(df, ['strata'], size=int(df.shape[0]*.20), seed=123, keep_index=True)\n",
    "test = test.set_index('index')\n",
    "test.index.name = None\n",
    "train = df.drop(test.index, axis=0)\n",
    "train.shape, test.shape\n",
    "\n",
    "df.diagnosis.value_counts()/df.shape[0]\n",
    "train.diagnosis.value_counts()/train.shape[0]\n",
    "test.diagnosis.value_counts()/test.shape[0]\n",
    "\n",
    "#save train and test \n",
    "train.to_csv(\"../data/train.csv\", index=False) # desktop\n",
    "test.to_csv(\"../data/test.csv\", index=False) # desktop\n",
    "# train.to_csv(\"/home/mm/Tesis/train.csv\", index=False) # shh\n",
    "# test.to_csv(\"/home/mm/Tesis/data/test.csv\", index=False) #ssh\n",
    "\n",
    "train = train.drop(['site','id','strata'], axis=1)\n",
    "test = test.drop(['site','id','strata'], axis=1)\n",
    "\n",
    "### Split into AD and FTD\n",
    "data = train.query(\"diagnosis != 'CN'\")\n",
    "data['diagnosis'] = data['diagnosis'].replace({'AD':0, 'FTD':1})\n",
    "train.shape"
   ]
  },
  {
   "cell_type": "code",
   "execution_count": 9,
   "id": "beef2623",
   "metadata": {},
   "outputs": [],
   "source": [
    "### Load Hyperparams\n",
    "# hparams_path = \"/home/mm/Tesis/pred_results/2023-07-14/mean_hparams/\" # ssh\n",
    "\n",
    "hparams_path = \"/home/marcelo/GitRepos/Tesis/pred_results/2023-07-15/mean_hparams/\" # Desktop\n",
    "\n",
    "rf_hp = pd.read_csv(hparams_path + \"RF_hparams.csv\",\n",
    "                    usecols=['param_criterion', 'param_max_depth','param_max_features', 'param_min_samples_leaf',\n",
    "                             'param_min_samples_split', 'param_n_estimators','params', 'mean_test_score' ,'mean_train_score'])\n",
    "rf_hp= rf_hp[rf_hp['mean_test_score'] < rf_hp['mean_train_score']].sort_values('mean_test_score', ascending=False).head()\n",
    "\n",
    "rbf_hp = pd.read_csv(hparams_path + \"SVC_RBF_hparams2.csv\",\n",
    "                     usecols=['param_C', 'param_gamma','params', 'mean_test_score' ,'mean_train_score'])\n",
    "rbf_hp= rbf_hp[rbf_hp['mean_test_score'] < rbf_hp['mean_train_score']].sort_values('mean_test_score', ascending=False).head()\n",
    "\n",
    "poly_hp = pd.read_csv(hparams_path + \"SVC_Poly_hparams.csv\",\n",
    "                      usecols=['param_C', 'param_coef0', 'param_degree','param_gamma','params', \n",
    "                               'mean_test_score' ,'mean_train_score'])\n",
    "poly_hp= poly_hp[poly_hp['mean_test_score'] < poly_hp['mean_train_score']].sort_values('mean_test_score', ascending=False).head()\n",
    "\n",
    "lgbm_hp = pd.read_csv(hparams_path + \"lgbm_hparams.csv\", usecols=[ 'param_learning_rate', 'param_max_depth',\n",
    "       'param_n_estimators', 'param_num_leaves', 'param_reg_alpha',\n",
    "       'param_reg_lambda','params', 'mean_test_score' ,'mean_train_score'])\n",
    "lgbm_hp= lgbm_hp[lgbm_hp['mean_test_score'] < lgbm_hp['mean_train_score']].sort_values('mean_test_score', ascending=False).head()\n",
    "\n",
    "xgb_hp = pd.read_csv(hparams_path + \"xgb_hparams.csv\", usecols=['param_booster', 'param_learning_rate',\n",
    "       'param_max_bin', 'param_max_depth', 'param_max_leaves',\n",
    "       'param_n_estimators', 'param_reg_alpha', 'param_reg_lambda',\n",
    "       'param_tree_method','params', 'mean_test_score' ,'mean_train_score'])\n",
    "xgb_hp= xgb_hp[xgb_hp['mean_test_score'] < xgb_hp['mean_train_score']].sort_values('mean_test_score', ascending=False).head()"
   ]
  },
  {
   "cell_type": "code",
   "execution_count": 10,
   "id": "92f84c8c",
   "metadata": {},
   "outputs": [],
   "source": [
    "## Models Hparams\n",
    "# RF\n",
    "rf_params= {\"n_estimators\": rf_hp.loc[0,'param_n_estimators'],\n",
    "    \"criterion\": rf_hp.loc[0,'param_criterion'],\n",
    "    \"max_depth\": rf_hp.loc[0,'param_max_depth'],\n",
    "    \"min_samples_split\": rf_hp.loc[0,'param_min_samples_split'],\n",
    "    \"min_samples_leaf\": rf_hp.loc[0,'param_min_samples_leaf'],\n",
    "    \"max_features\":rf_hp.loc[0,'param_max_features'],\n",
    "    \"class_weight\":\"balanced\", \"verbose\":0, \"n_jobs\":-1}\n",
    "#RBF\n",
    "rbf_params = {'C': rbf_hp.loc[0, \"param_C\"],\n",
    "              'gamma': rbf_hp.loc[0, \"param_gamma\"],\n",
    "              \"kernel\":\"rbf\",\"class_weight\":\"balanced\", \"verbose\":0}\n",
    "#Poly\n",
    "poly_params = {'C': poly_hp.loc[0, \"param_C\"],\n",
    "              'gamma': poly_hp.loc[0, \"param_gamma\"],\n",
    "               'coef0': poly_hp.loc[0, \"param_coef0\"],\n",
    "               'degree': poly_hp.loc[0, 'param_degree'],\n",
    "              \"kernel\":\"poly\",\"class_weight\":\"balanced\", \"verbose\":0}\n",
    "#LGBM\n",
    "lgbm_params ={'num_leaves': lgbm_hp.loc[0, 'param_num_leaves'],\n",
    "    'max_depth': lgbm_hp.loc[0, 'param_max_depth'],\n",
    "    'learning_rate':lgbm_hp.loc[0, 'param_learning_rate'],\n",
    "    'n_estimators': lgbm_hp.loc[0, 'param_n_estimators'],\n",
    "    'reg_alpha':lgbm_hp.loc[0, 'param_reg_alpha'],\n",
    "    'reg_lambda':lgbm_hp.loc[0, 'param_reg_lambda'],\n",
    "    'subsample':1.0,\n",
    "    'subsample_freq':-1,\n",
    "    'objective':'binary',\n",
    "    'n_jobs': -1,\n",
    "    'verbose':-1}\n",
    "\n",
    "#XGBOOST\n",
    "xgb_params = {\n",
    "    'booster': xgb_hp.loc[0, 'param_booster'],\n",
    "    'tree_method': xgb_hp.loc[0, 'param_tree_method'],\n",
    "    'max_leaves': xgb_hp.loc[0, 'param_max_leaves'],\n",
    "    'max_depth': xgb_hp.loc[0, 'param_max_depth'],\n",
    "    'max_bin': xgb_hp.loc[0, 'param_max_bin'],\n",
    "    'learning_rate': xgb_hp.loc[0, 'param_learning_rate'],\n",
    "    'n_estimators': xgb_hp.loc[0, 'param_n_estimators'],\n",
    "    'reg_alpha': xgb_hp.loc[0, 'param_reg_alpha'],\n",
    "    'reg_lambda': xgb_hp.loc[0, 'param_reg_lambda'],\n",
    "    'gamma': 0.005,\n",
    "    'subsample':1.0,\n",
    "    'enable_categorical':True, # Supported tree methods are `gpu_hist`, `approx`, and `hist`.\n",
    "    'n_jobs': -1,\n",
    "    'verbosity':0,\n",
    "    'eval_metric':'auc',\n",
    "    'objective':'binary:logistic',\n",
    "    'use_label_encoder':None}"
   ]
  },
  {
   "cell_type": "markdown",
   "id": "01b1c5a5",
   "metadata": {},
   "source": [
    "### RF Model"
   ]
  },
  {
   "cell_type": "markdown",
   "id": "813dff4b",
   "metadata": {},
   "source": [
    "##### Bootstrap"
   ]
  },
  {
   "cell_type": "code",
   "execution_count": 11,
   "id": "85e5d3c8",
   "metadata": {},
   "outputs": [
    {
     "name": "stdout",
     "output_type": "stream",
     "text": [
      "RandomForestClassifier(class_weight='balanced', criterion='entropy',\n",
      "                       max_depth=14, max_features=14, min_samples_leaf=0.01,\n",
      "                       min_samples_split=0.01, n_estimators=500, n_jobs=-1)\n"
     ]
    },
    {
     "name": "stderr",
     "output_type": "stream",
     "text": [
      "Iterating:  14%|██▍              | 710/5000 [11:25<1:09:04,  1.04it/s]\n"
     ]
    },
    {
     "ename": "KeyboardInterrupt",
     "evalue": "",
     "output_type": "error",
     "traceback": [
      "\u001b[0;31m---------------------------------------------------------------------------\u001b[0m",
      "\u001b[0;31mKeyboardInterrupt\u001b[0m                         Traceback (most recent call last)",
      "Cell \u001b[0;32mIn[11], line 1\u001b[0m\n\u001b[0;32m----> 1\u001b[0m Model_res, CI_df, Model_res_r, ROC_AUC, CM, ROC_chance, empirical_p_value \u001b[38;5;241m=\u001b[39m \u001b[43mbc\u001b[49m\u001b[38;5;241;43m.\u001b[39;49m\u001b[43mBootstrap_tree_classifier\u001b[49m\u001b[43m(\u001b[49m\n\u001b[1;32m      2\u001b[0m \u001b[43m    \u001b[49m\u001b[43mdata\u001b[49m\u001b[43m,\u001b[49m\u001b[43m \u001b[49m\u001b[38;5;124;43m'\u001b[39;49m\u001b[38;5;124;43mdiagnosis\u001b[39;49m\u001b[38;5;124;43m'\u001b[39;49m\u001b[43m,\u001b[49m\u001b[43m \u001b[49m\u001b[43mRandomForestClassifier\u001b[49m\u001b[43m(\u001b[49m\u001b[43m)\u001b[49m\u001b[43m,\u001b[49m\u001b[43m \u001b[49m\u001b[43mscaler\u001b[49m\u001b[38;5;241;43m=\u001b[39;49m\u001b[38;5;124;43m'\u001b[39;49m\u001b[38;5;124;43mMM\u001b[39;49m\u001b[38;5;124;43m'\u001b[39;49m\u001b[43m,\u001b[49m\u001b[43m \u001b[49m\u001b[43mparams\u001b[49m\u001b[38;5;241;43m=\u001b[39;49m\u001b[43mrf_params\u001b[49m\u001b[43m,\u001b[49m\u001b[43m \u001b[49m\u001b[43mtest_size\u001b[49m\u001b[38;5;241;43m=\u001b[39;49m\u001b[38;5;241;43m.2\u001b[39;49m\u001b[43m,\u001b[49m\u001b[43m \u001b[49m\u001b[43mn_iter\u001b[49m\u001b[38;5;241;43m=\u001b[39;49m\u001b[38;5;241;43m5000\u001b[39;49m\u001b[43m,\u001b[49m\u001b[43m \u001b[49m\u001b[43mchance_model\u001b[49m\u001b[38;5;241;43m=\u001b[39;49m\u001b[38;5;28;43;01mTrue\u001b[39;49;00m\u001b[43m)\u001b[49m\n",
      "File \u001b[0;32m~/GitRepos/Tesis/code/ml_bootstrap_clf.py:959\u001b[0m, in \u001b[0;36mBootstrap_tree_classifier\u001b[0;34m(data, y_col, model_type, params, test_size, scaler, n_iter, chance_model)\u001b[0m\n\u001b[1;32m    956\u001b[0m X_train\u001b[38;5;241m=\u001b[39mscaler\u001b[38;5;241m.\u001b[39mtransform(X_train)\n\u001b[1;32m    957\u001b[0m X_test\u001b[38;5;241m=\u001b[39mscaler\u001b[38;5;241m.\u001b[39mtransform(X_test)\n\u001b[0;32m--> 959\u001b[0m clf\u001b[38;5;241m=\u001b[39m\u001b[43mmodel\u001b[49m\u001b[38;5;241;43m.\u001b[39;49m\u001b[43mfit\u001b[49m\u001b[43m(\u001b[49m\u001b[43mX_train\u001b[49m\u001b[43m,\u001b[49m\u001b[43m \u001b[49m\u001b[43my_train\u001b[49m\u001b[43m)\u001b[49m\n\u001b[1;32m    960\u001b[0m y_pred \u001b[38;5;241m=\u001b[39m clf\u001b[38;5;241m.\u001b[39mpredict(X_test)\n\u001b[1;32m    962\u001b[0m \u001b[38;5;28;01mtry\u001b[39;00m:\n",
      "File \u001b[0;32m~/anaconda3/envs/sklearn-env/lib/python3.8/site-packages/sklearn/ensemble/_forest.py:450\u001b[0m, in \u001b[0;36mBaseForest.fit\u001b[0;34m(self, X, y, sample_weight)\u001b[0m\n\u001b[1;32m    439\u001b[0m trees \u001b[38;5;241m=\u001b[39m [\n\u001b[1;32m    440\u001b[0m     \u001b[38;5;28mself\u001b[39m\u001b[38;5;241m.\u001b[39m_make_estimator(append\u001b[38;5;241m=\u001b[39m\u001b[38;5;28;01mFalse\u001b[39;00m, random_state\u001b[38;5;241m=\u001b[39mrandom_state)\n\u001b[1;32m    441\u001b[0m     \u001b[38;5;28;01mfor\u001b[39;00m i \u001b[38;5;129;01min\u001b[39;00m \u001b[38;5;28mrange\u001b[39m(n_more_estimators)\n\u001b[1;32m    442\u001b[0m ]\n\u001b[1;32m    444\u001b[0m \u001b[38;5;66;03m# Parallel loop: we prefer the threading backend as the Cython code\u001b[39;00m\n\u001b[1;32m    445\u001b[0m \u001b[38;5;66;03m# for fitting the trees is internally releasing the Python GIL\u001b[39;00m\n\u001b[1;32m    446\u001b[0m \u001b[38;5;66;03m# making threading more efficient than multiprocessing in\u001b[39;00m\n\u001b[1;32m    447\u001b[0m \u001b[38;5;66;03m# that case. However, for joblib 0.12+ we respect any\u001b[39;00m\n\u001b[1;32m    448\u001b[0m \u001b[38;5;66;03m# parallel_backend contexts set at a higher level,\u001b[39;00m\n\u001b[1;32m    449\u001b[0m \u001b[38;5;66;03m# since correctness does not rely on using threads.\u001b[39;00m\n\u001b[0;32m--> 450\u001b[0m trees \u001b[38;5;241m=\u001b[39m \u001b[43mParallel\u001b[49m\u001b[43m(\u001b[49m\n\u001b[1;32m    451\u001b[0m \u001b[43m    \u001b[49m\u001b[43mn_jobs\u001b[49m\u001b[38;5;241;43m=\u001b[39;49m\u001b[38;5;28;43mself\u001b[39;49m\u001b[38;5;241;43m.\u001b[39;49m\u001b[43mn_jobs\u001b[49m\u001b[43m,\u001b[49m\n\u001b[1;32m    452\u001b[0m \u001b[43m    \u001b[49m\u001b[43mverbose\u001b[49m\u001b[38;5;241;43m=\u001b[39;49m\u001b[38;5;28;43mself\u001b[39;49m\u001b[38;5;241;43m.\u001b[39;49m\u001b[43mverbose\u001b[49m\u001b[43m,\u001b[49m\n\u001b[1;32m    453\u001b[0m \u001b[43m    \u001b[49m\u001b[38;5;241;43m*\u001b[39;49m\u001b[38;5;241;43m*\u001b[39;49m\u001b[43m_joblib_parallel_args\u001b[49m\u001b[43m(\u001b[49m\u001b[43mprefer\u001b[49m\u001b[38;5;241;43m=\u001b[39;49m\u001b[38;5;124;43m\"\u001b[39;49m\u001b[38;5;124;43mthreads\u001b[39;49m\u001b[38;5;124;43m\"\u001b[39;49m\u001b[43m)\u001b[49m\u001b[43m,\u001b[49m\n\u001b[1;32m    454\u001b[0m \u001b[43m\u001b[49m\u001b[43m)\u001b[49m\u001b[43m(\u001b[49m\n\u001b[1;32m    455\u001b[0m \u001b[43m    \u001b[49m\u001b[43mdelayed\u001b[49m\u001b[43m(\u001b[49m\u001b[43m_parallel_build_trees\u001b[49m\u001b[43m)\u001b[49m\u001b[43m(\u001b[49m\n\u001b[1;32m    456\u001b[0m \u001b[43m        \u001b[49m\u001b[43mt\u001b[49m\u001b[43m,\u001b[49m\n\u001b[1;32m    457\u001b[0m \u001b[43m        \u001b[49m\u001b[38;5;28;43mself\u001b[39;49m\u001b[43m,\u001b[49m\n\u001b[1;32m    458\u001b[0m \u001b[43m        \u001b[49m\u001b[43mX\u001b[49m\u001b[43m,\u001b[49m\n\u001b[1;32m    459\u001b[0m \u001b[43m        \u001b[49m\u001b[43my\u001b[49m\u001b[43m,\u001b[49m\n\u001b[1;32m    460\u001b[0m \u001b[43m        \u001b[49m\u001b[43msample_weight\u001b[49m\u001b[43m,\u001b[49m\n\u001b[1;32m    461\u001b[0m \u001b[43m        \u001b[49m\u001b[43mi\u001b[49m\u001b[43m,\u001b[49m\n\u001b[1;32m    462\u001b[0m \u001b[43m        \u001b[49m\u001b[38;5;28;43mlen\u001b[39;49m\u001b[43m(\u001b[49m\u001b[43mtrees\u001b[49m\u001b[43m)\u001b[49m\u001b[43m,\u001b[49m\n\u001b[1;32m    463\u001b[0m \u001b[43m        \u001b[49m\u001b[43mverbose\u001b[49m\u001b[38;5;241;43m=\u001b[39;49m\u001b[38;5;28;43mself\u001b[39;49m\u001b[38;5;241;43m.\u001b[39;49m\u001b[43mverbose\u001b[49m\u001b[43m,\u001b[49m\n\u001b[1;32m    464\u001b[0m \u001b[43m        \u001b[49m\u001b[43mclass_weight\u001b[49m\u001b[38;5;241;43m=\u001b[39;49m\u001b[38;5;28;43mself\u001b[39;49m\u001b[38;5;241;43m.\u001b[39;49m\u001b[43mclass_weight\u001b[49m\u001b[43m,\u001b[49m\n\u001b[1;32m    465\u001b[0m \u001b[43m        \u001b[49m\u001b[43mn_samples_bootstrap\u001b[49m\u001b[38;5;241;43m=\u001b[39;49m\u001b[43mn_samples_bootstrap\u001b[49m\u001b[43m,\u001b[49m\n\u001b[1;32m    466\u001b[0m \u001b[43m    \u001b[49m\u001b[43m)\u001b[49m\n\u001b[1;32m    467\u001b[0m \u001b[43m    \u001b[49m\u001b[38;5;28;43;01mfor\u001b[39;49;00m\u001b[43m \u001b[49m\u001b[43mi\u001b[49m\u001b[43m,\u001b[49m\u001b[43m \u001b[49m\u001b[43mt\u001b[49m\u001b[43m \u001b[49m\u001b[38;5;129;43;01min\u001b[39;49;00m\u001b[43m \u001b[49m\u001b[38;5;28;43menumerate\u001b[39;49m\u001b[43m(\u001b[49m\u001b[43mtrees\u001b[49m\u001b[43m)\u001b[49m\n\u001b[1;32m    468\u001b[0m \u001b[43m\u001b[49m\u001b[43m)\u001b[49m\n\u001b[1;32m    470\u001b[0m \u001b[38;5;66;03m# Collect newly grown trees\u001b[39;00m\n\u001b[1;32m    471\u001b[0m \u001b[38;5;28mself\u001b[39m\u001b[38;5;241m.\u001b[39mestimators_\u001b[38;5;241m.\u001b[39mextend(trees)\n",
      "File \u001b[0;32m~/anaconda3/envs/sklearn-env/lib/python3.8/site-packages/joblib/parallel.py:1061\u001b[0m, in \u001b[0;36mParallel.__call__\u001b[0;34m(self, iterable)\u001b[0m\n\u001b[1;32m   1058\u001b[0m     \u001b[38;5;28mself\u001b[39m\u001b[38;5;241m.\u001b[39m_iterating \u001b[38;5;241m=\u001b[39m \u001b[38;5;28;01mFalse\u001b[39;00m\n\u001b[1;32m   1060\u001b[0m \u001b[38;5;28;01mwith\u001b[39;00m \u001b[38;5;28mself\u001b[39m\u001b[38;5;241m.\u001b[39m_backend\u001b[38;5;241m.\u001b[39mretrieval_context():\n\u001b[0;32m-> 1061\u001b[0m     \u001b[38;5;28;43mself\u001b[39;49m\u001b[38;5;241;43m.\u001b[39;49m\u001b[43mretrieve\u001b[49m\u001b[43m(\u001b[49m\u001b[43m)\u001b[49m\n\u001b[1;32m   1062\u001b[0m \u001b[38;5;66;03m# Make sure that we get a last message telling us we are done\u001b[39;00m\n\u001b[1;32m   1063\u001b[0m elapsed_time \u001b[38;5;241m=\u001b[39m time\u001b[38;5;241m.\u001b[39mtime() \u001b[38;5;241m-\u001b[39m \u001b[38;5;28mself\u001b[39m\u001b[38;5;241m.\u001b[39m_start_time\n",
      "File \u001b[0;32m~/anaconda3/envs/sklearn-env/lib/python3.8/site-packages/joblib/parallel.py:938\u001b[0m, in \u001b[0;36mParallel.retrieve\u001b[0;34m(self)\u001b[0m\n\u001b[1;32m    936\u001b[0m \u001b[38;5;28;01mtry\u001b[39;00m:\n\u001b[1;32m    937\u001b[0m     \u001b[38;5;28;01mif\u001b[39;00m \u001b[38;5;28mgetattr\u001b[39m(\u001b[38;5;28mself\u001b[39m\u001b[38;5;241m.\u001b[39m_backend, \u001b[38;5;124m'\u001b[39m\u001b[38;5;124msupports_timeout\u001b[39m\u001b[38;5;124m'\u001b[39m, \u001b[38;5;28;01mFalse\u001b[39;00m):\n\u001b[0;32m--> 938\u001b[0m         \u001b[38;5;28mself\u001b[39m\u001b[38;5;241m.\u001b[39m_output\u001b[38;5;241m.\u001b[39mextend(\u001b[43mjob\u001b[49m\u001b[38;5;241;43m.\u001b[39;49m\u001b[43mget\u001b[49m\u001b[43m(\u001b[49m\u001b[43mtimeout\u001b[49m\u001b[38;5;241;43m=\u001b[39;49m\u001b[38;5;28;43mself\u001b[39;49m\u001b[38;5;241;43m.\u001b[39;49m\u001b[43mtimeout\u001b[49m\u001b[43m)\u001b[49m)\n\u001b[1;32m    939\u001b[0m     \u001b[38;5;28;01melse\u001b[39;00m:\n\u001b[1;32m    940\u001b[0m         \u001b[38;5;28mself\u001b[39m\u001b[38;5;241m.\u001b[39m_output\u001b[38;5;241m.\u001b[39mextend(job\u001b[38;5;241m.\u001b[39mget())\n",
      "File \u001b[0;32m~/anaconda3/envs/sklearn-env/lib/python3.8/multiprocessing/pool.py:765\u001b[0m, in \u001b[0;36mApplyResult.get\u001b[0;34m(self, timeout)\u001b[0m\n\u001b[1;32m    764\u001b[0m \u001b[38;5;28;01mdef\u001b[39;00m \u001b[38;5;21mget\u001b[39m(\u001b[38;5;28mself\u001b[39m, timeout\u001b[38;5;241m=\u001b[39m\u001b[38;5;28;01mNone\u001b[39;00m):\n\u001b[0;32m--> 765\u001b[0m     \u001b[38;5;28;43mself\u001b[39;49m\u001b[38;5;241;43m.\u001b[39;49m\u001b[43mwait\u001b[49m\u001b[43m(\u001b[49m\u001b[43mtimeout\u001b[49m\u001b[43m)\u001b[49m\n\u001b[1;32m    766\u001b[0m     \u001b[38;5;28;01mif\u001b[39;00m \u001b[38;5;129;01mnot\u001b[39;00m \u001b[38;5;28mself\u001b[39m\u001b[38;5;241m.\u001b[39mready():\n\u001b[1;32m    767\u001b[0m         \u001b[38;5;28;01mraise\u001b[39;00m \u001b[38;5;167;01mTimeoutError\u001b[39;00m\n",
      "File \u001b[0;32m~/anaconda3/envs/sklearn-env/lib/python3.8/multiprocessing/pool.py:762\u001b[0m, in \u001b[0;36mApplyResult.wait\u001b[0;34m(self, timeout)\u001b[0m\n\u001b[1;32m    761\u001b[0m \u001b[38;5;28;01mdef\u001b[39;00m \u001b[38;5;21mwait\u001b[39m(\u001b[38;5;28mself\u001b[39m, timeout\u001b[38;5;241m=\u001b[39m\u001b[38;5;28;01mNone\u001b[39;00m):\n\u001b[0;32m--> 762\u001b[0m     \u001b[38;5;28;43mself\u001b[39;49m\u001b[38;5;241;43m.\u001b[39;49m\u001b[43m_event\u001b[49m\u001b[38;5;241;43m.\u001b[39;49m\u001b[43mwait\u001b[49m\u001b[43m(\u001b[49m\u001b[43mtimeout\u001b[49m\u001b[43m)\u001b[49m\n",
      "File \u001b[0;32m~/anaconda3/envs/sklearn-env/lib/python3.8/threading.py:558\u001b[0m, in \u001b[0;36mEvent.wait\u001b[0;34m(self, timeout)\u001b[0m\n\u001b[1;32m    556\u001b[0m signaled \u001b[38;5;241m=\u001b[39m \u001b[38;5;28mself\u001b[39m\u001b[38;5;241m.\u001b[39m_flag\n\u001b[1;32m    557\u001b[0m \u001b[38;5;28;01mif\u001b[39;00m \u001b[38;5;129;01mnot\u001b[39;00m signaled:\n\u001b[0;32m--> 558\u001b[0m     signaled \u001b[38;5;241m=\u001b[39m \u001b[38;5;28;43mself\u001b[39;49m\u001b[38;5;241;43m.\u001b[39;49m\u001b[43m_cond\u001b[49m\u001b[38;5;241;43m.\u001b[39;49m\u001b[43mwait\u001b[49m\u001b[43m(\u001b[49m\u001b[43mtimeout\u001b[49m\u001b[43m)\u001b[49m\n\u001b[1;32m    559\u001b[0m \u001b[38;5;28;01mreturn\u001b[39;00m signaled\n",
      "File \u001b[0;32m~/anaconda3/envs/sklearn-env/lib/python3.8/threading.py:302\u001b[0m, in \u001b[0;36mCondition.wait\u001b[0;34m(self, timeout)\u001b[0m\n\u001b[1;32m    300\u001b[0m \u001b[38;5;28;01mtry\u001b[39;00m:    \u001b[38;5;66;03m# restore state no matter what (e.g., KeyboardInterrupt)\u001b[39;00m\n\u001b[1;32m    301\u001b[0m     \u001b[38;5;28;01mif\u001b[39;00m timeout \u001b[38;5;129;01mis\u001b[39;00m \u001b[38;5;28;01mNone\u001b[39;00m:\n\u001b[0;32m--> 302\u001b[0m         \u001b[43mwaiter\u001b[49m\u001b[38;5;241;43m.\u001b[39;49m\u001b[43macquire\u001b[49m\u001b[43m(\u001b[49m\u001b[43m)\u001b[49m\n\u001b[1;32m    303\u001b[0m         gotit \u001b[38;5;241m=\u001b[39m \u001b[38;5;28;01mTrue\u001b[39;00m\n\u001b[1;32m    304\u001b[0m     \u001b[38;5;28;01melse\u001b[39;00m:\n",
      "\u001b[0;31mKeyboardInterrupt\u001b[0m: "
     ]
    }
   ],
   "source": [
    "Model_res, CI_df, Model_res_r, ROC_AUC, CM, ROC_chance, empirical_p_value = bc.Bootstrap_tree_classifier(\n",
    "    data, 'diagnosis', RandomForestClassifier(), scaler='MM', params=rf_params, test_size=.2, n_iter=5000, chance_model=True)"
   ]
  },
  {
   "cell_type": "code",
   "execution_count": null,
   "id": "36550602",
   "metadata": {},
   "outputs": [],
   "source": [
    "path_res"
   ]
  },
  {
   "cell_type": "code",
   "execution_count": null,
   "id": "94e37977",
   "metadata": {},
   "outputs": [],
   "source": [
    "Model_res.to_csv(path_res+ \"/RandomForest/Model_res.csv\", index=False)\n",
    "Model_res.mean()"
   ]
  },
  {
   "cell_type": "code",
   "execution_count": null,
   "id": "9e34d69b",
   "metadata": {},
   "outputs": [],
   "source": [
    "print(\"%.4f\" % Model_res['ROC_AUC'].mean())\n"
   ]
  },
  {
   "cell_type": "code",
   "execution_count": null,
   "id": "7cade718",
   "metadata": {},
   "outputs": [],
   "source": [
    "CI_df.to_csv(path_res+ \"/RandomForest/CI_df.csv\", index=False)\n",
    "CI_df"
   ]
  },
  {
   "cell_type": "code",
   "execution_count": null,
   "id": "7aa7c8a6",
   "metadata": {},
   "outputs": [],
   "source": [
    "Model_res_r.sort_values('Importance_mean', ascending=False).to_csv(path_res+ \"/RandomForest/Model_res_r.csv\", index=False)\n",
    "Model_res_r.sort_values('Importance_mean', ascending=False).head(10)"
   ]
  },
  {
   "cell_type": "code",
   "execution_count": null,
   "id": "21736872",
   "metadata": {},
   "outputs": [],
   "source": [
    "ml_plotting.plot_custom_roc_curve(ROC_AUC, ROC_chance, fname=path_res+ \"/RandomForest/ROC_AUC_curve.png\")\n",
    "# Fig save?\n"
   ]
  },
  {
   "cell_type": "code",
   "execution_count": null,
   "id": "0b86137a",
   "metadata": {},
   "outputs": [],
   "source": [
    "ml_plotting.plot_boostrap_CM(CM, labels=['AD', 'FTD'],fname=path_res+ \"/RandomForest/CM.png\")"
   ]
  },
  {
   "cell_type": "markdown",
   "id": "d1bf1481",
   "metadata": {},
   "source": [
    "##### Permutation Feature importance"
   ]
  },
  {
   "cell_type": "code",
   "execution_count": null,
   "id": "78f6ca11",
   "metadata": {},
   "outputs": [],
   "source": [
    "rf_fimp = bc.permutation_FIMP( data, 'diagnosis', RandomForestClassifier(), params=rf_params, test_size=.3, n_repeats=1000, random_state=123)"
   ]
  },
  {
   "cell_type": "code",
   "execution_count": null,
   "id": "0ca04832",
   "metadata": {},
   "outputs": [],
   "source": [
    "rf_fimp.sort_values('mean', ascending=False).to_csv(path_res+ \"/RandomForest/rf_PFI.csv\")\n",
    "rf_fimp.sort_values('mean', ascending=False).head()"
   ]
  },
  {
   "cell_type": "code",
   "execution_count": null,
   "id": "701d4aea",
   "metadata": {},
   "outputs": [],
   "source": [
    "# ml_plotting.plot_permutation_FIMP(rf_fimp, names='variables', importances_col='Importance_mean', std_col='Importance_std')"
   ]
  },
  {
   "cell_type": "code",
   "execution_count": null,
   "id": "f62d44d7",
   "metadata": {},
   "outputs": [],
   "source": [
    "Model_res_r.sort_values('Importance_mean', ascending=False).head()"
   ]
  },
  {
   "cell_type": "markdown",
   "id": "5793229b",
   "metadata": {},
   "source": [
    "##### unseen data"
   ]
  },
  {
   "cell_type": "code",
   "execution_count": null,
   "id": "07eeadfa",
   "metadata": {},
   "outputs": [],
   "source": [
    "# train = train.drop(['site','id','strata','nationality', 'country_of_residence'], axis=1)\n",
    "# test = test.drop(['site','id','strata', 'nationality', 'country_of_residence'], axis=1)\n",
    "\n",
    "### Split into AD and FTD\n",
    "train_data = train.query(\"diagnosis != 'CN'\")\n",
    "train_data['diagnosis'] = train_data['diagnosis'].replace({'AD':0, 'FTD':1})\n",
    "\n",
    "### Split into AD and FTD\n",
    "unseen_data = test.query(\"diagnosis != 'CN'\")\n",
    "unseen_data['diagnosis'] = unseen_data['diagnosis'].replace({'AD':0, 'FTD':1})\n",
    "train_data.shape, unseen_data.shape"
   ]
  },
  {
   "cell_type": "code",
   "execution_count": null,
   "id": "40a0e23d",
   "metadata": {},
   "outputs": [],
   "source": [
    "X_train, y_train = train_data.drop('diagnosis', axis=1), train_data[['diagnosis']]\n",
    "X_test, y_test = unseen_data.drop('diagnosis', axis=1), unseen_data[['diagnosis']]"
   ]
  },
  {
   "cell_type": "code",
   "execution_count": null,
   "id": "3fa56912",
   "metadata": {},
   "outputs": [],
   "source": [
    "# predict & scores\n",
    "rfc = RandomForestClassifier(**rf_params)\n",
    "rfc.fit(X_train, y_train)\n",
    "y_pred = rfc.predict(X_test)\n",
    "roc = np.round(roc_auc_score(y_test, y_pred), 4)\n",
    "acc = np.round(accuracy_score(y_test, y_pred), 4)\n",
    "rec = np.round(recall_score(y_test, y_pred),4)\n",
    "f1 = np.round(f1_score(y_test, y_pred), 4)\n",
    "prec = np.round(precision_score(y_test, y_pred), 4)\n",
    "cm = np.round(confusion_matrix(y_test, y_pred), 4)"
   ]
  },
  {
   "cell_type": "code",
   "execution_count": null,
   "id": "f50967ca",
   "metadata": {},
   "outputs": [],
   "source": [
    "unseen_df = pd.DataFrame([roc, acc, rec, f1, prec, cm]).T\n",
    "unseen_df.columns= ['ROC AUC', 'Accuracy', 'Recall', 'F1', 'Precision', 'CM']\n",
    "unseen_df.to_csv(path_res+ \"/RandomForest/unseen.csv\")"
   ]
  },
  {
   "cell_type": "code",
   "execution_count": null,
   "id": "28938ff4",
   "metadata": {},
   "outputs": [],
   "source": [
    "print(f\"ROC score: {roc}\\nAccuracy: {acc}\\nRecall: {rec}\\nF1: {f1}\\nPrecision:{prec}\")"
   ]
  },
  {
   "cell_type": "code",
   "execution_count": null,
   "id": "32f2bf70",
   "metadata": {},
   "outputs": [],
   "source": [
    "print(f\"Unseen Data ROC score: \\t\\t{roc}\\nBootstrping test ROC score: \\t{Model_res['ROC_AUC'].mean():.4f}\")"
   ]
  },
  {
   "cell_type": "code",
   "execution_count": null,
   "id": "bae5312f",
   "metadata": {},
   "outputs": [],
   "source": [
    "unseen_cm = { 'TP':cm[0,0], 'FN':cm[0,1],'FP':cm[1,0],'TN':cm[1,1]}\n",
    "ml_plotting.plot_boostrap_CM(unseen_cm, labels=['AD', 'FTD'])"
   ]
  },
  {
   "cell_type": "markdown",
   "id": "11ed6b28",
   "metadata": {},
   "source": [
    "### SVM - RBF"
   ]
  },
  {
   "cell_type": "markdown",
   "id": "530c219c",
   "metadata": {},
   "source": [
    "##### Bootstrap"
   ]
  },
  {
   "cell_type": "code",
   "execution_count": null,
   "id": "2530ba36",
   "metadata": {},
   "outputs": [],
   "source": [
    "rbf_Model_res, rbf_CI_df, rbf_Model_res_r, rbf_ROC_AUC, rbf_CM, rbf_ROC_chance, rbf_empirical_p_value = bc.Bootstrap_SVC_classifier(\n",
    "    data, 'diagnosis', SVC(), params=rbf_params, test_size=.2, scaler='MM', n_iter=5000, chance_model=True)"
   ]
  },
  {
   "cell_type": "code",
   "execution_count": null,
   "id": "9dc892ad",
   "metadata": {},
   "outputs": [],
   "source": [
    "rbf_Model_res.to_csv(path_res+ \"/SVM_rbf/rbf_Model_res.csv\", index=False)\n",
    "rbf_Model_res.mean()"
   ]
  },
  {
   "cell_type": "code",
   "execution_count": null,
   "id": "a964a9c9",
   "metadata": {},
   "outputs": [],
   "source": [
    "rbf_CI_df.to_csv(path_res+ \"/SVM_rbf/rbf_CI_df.csv\", index=False)\n",
    "rbf_CI_df"
   ]
  },
  {
   "cell_type": "code",
   "execution_count": null,
   "id": "73fb2028",
   "metadata": {},
   "outputs": [],
   "source": [
    "rbf_Model_res_r"
   ]
  },
  {
   "cell_type": "code",
   "execution_count": null,
   "id": "37e94032",
   "metadata": {},
   "outputs": [],
   "source": [
    "ml_plotting.plot_custom_roc_curve(rbf_ROC_AUC, rbf_ROC_chance, fname=path_res+ \"/SVM_rbf/rbf_ROC_AUC_curve.png\")"
   ]
  },
  {
   "cell_type": "code",
   "execution_count": null,
   "id": "897125e8",
   "metadata": {},
   "outputs": [],
   "source": [
    "ml_plotting.plot_boostrap_CM(rbf_CM, labels=['AD', 'FTD'],fname=path_res+ \"/SVM_rbf/rbf_CM.png\")"
   ]
  },
  {
   "cell_type": "markdown",
   "id": "5037b68c",
   "metadata": {},
   "source": [
    "#### Permutation Feature importance"
   ]
  },
  {
   "cell_type": "code",
   "execution_count": null,
   "id": "cdfa41a7",
   "metadata": {},
   "outputs": [],
   "source": [
    "rbf_fimp = bc.permutation_FIMP( data, 'diagnosis', SVC(), params=rbf_params, test_size=.3, n_repeats=1000, random_state=123)"
   ]
  },
  {
   "cell_type": "code",
   "execution_count": null,
   "id": "52f3d38e",
   "metadata": {},
   "outputs": [],
   "source": [
    "rbf_fimp.sort_values('mean', ascending=False).to_csv(path_res+ \"/SVM_rbf/rbf_PFI.csv\")\n",
    "rbf_fimp.sort_values('mean', ascending=False)"
   ]
  },
  {
   "cell_type": "markdown",
   "id": "c2a5964c",
   "metadata": {},
   "source": [
    "#### Unseen data"
   ]
  },
  {
   "cell_type": "code",
   "execution_count": null,
   "id": "be24a310",
   "metadata": {},
   "outputs": [],
   "source": [
    "### Split into AD and FTD\n",
    "train_data = train.query(\"diagnosis != 'CN'\")\n",
    "train_data['diagnosis'] = train_data['diagnosis'].replace({'AD':0, 'FTD':1})"
   ]
  },
  {
   "cell_type": "code",
   "execution_count": null,
   "id": "d95eaf80",
   "metadata": {},
   "outputs": [],
   "source": [
    "### Split into AD and FTD\n",
    "unseen_data = test.query(\"diagnosis != 'CN'\")\n",
    "unseen_data['diagnosis'] = unseen_data['diagnosis'].replace({'AD':0, 'FTD':1})\n",
    "train_data.shape, unseen_data.shape\n",
    "\n",
    "X_train, y_train = train_data.drop('diagnosis', axis=1), train_data[['diagnosis']]\n",
    "X_test, y_test = unseen_data.drop('diagnosis', axis=1), unseen_data[['diagnosis']]"
   ]
  },
  {
   "cell_type": "code",
   "execution_count": null,
   "id": "19145a6b",
   "metadata": {},
   "outputs": [],
   "source": [
    "#Predict\n",
    "svc_rbf = SVC(**rbf_params)\n",
    "svc_rbf.fit(X_train, y_train)\n",
    "y_pred = svc_rbf.predict(X_test)\n",
    "roc = np.round(roc_auc_score(y_test, y_pred), 4)\n",
    "acc = np.round(accuracy_score(y_test, y_pred), 4)\n",
    "rec = np.round(recall_score(y_test, y_pred),4)\n",
    "f1 = np.round(f1_score(y_test, y_pred), 4)\n",
    "prec = np.round(precision_score(y_test, y_pred), 4)\n",
    "cm = np.round(confusion_matrix(y_test, y_pred), 4)"
   ]
  },
  {
   "cell_type": "code",
   "execution_count": null,
   "id": "9d6253d0",
   "metadata": {},
   "outputs": [],
   "source": [
    "unseen_df = pd.DataFrame([roc, acc, rec, f1, prec, cm]).T\n",
    "unseen_df.columns= ['ROC AUC', 'Accuracy', 'Recall', 'F1', 'Precision', 'CM']\n",
    "unseen_df.to_csv(path_res+ \"/SVM_rbf/rbf_unseen.csv\")"
   ]
  },
  {
   "cell_type": "code",
   "execution_count": null,
   "id": "97c56dd0",
   "metadata": {},
   "outputs": [],
   "source": [
    "print(f\"ROC score: {roc}\\nAccuracy: {acc}\\nRecall: {rec}\\nF1: {f1}\\nPrecision:{prec}\")\n",
    "print(f\"Unseen Data ROC score: \\t\\t{roc}\\nBootstrping test ROC score: \\t{rbf_Model_res['ROC_AUC'].mean():.4f}\")"
   ]
  },
  {
   "cell_type": "markdown",
   "id": "7f3491bc",
   "metadata": {},
   "source": [
    "### SVM - Poly"
   ]
  },
  {
   "cell_type": "markdown",
   "id": "3a916658",
   "metadata": {},
   "source": [
    "#### Bootstrap"
   ]
  },
  {
   "cell_type": "code",
   "execution_count": null,
   "id": "78d74969",
   "metadata": {},
   "outputs": [],
   "source": [
    "p_Model_res, p_CI_df, p_Model_res_r, p_ROC_AUC, p_CM, p_ROC_chance, p_empirical_p_value = bc.Bootstrap_SVC_classifier(\n",
    "    data, 'diagnosis', SVC(), params=poly_params, test_size=.2, scaler='MM', n_iter=5000, chance_model=True)"
   ]
  },
  {
   "cell_type": "code",
   "execution_count": null,
   "id": "ca0b73c0",
   "metadata": {},
   "outputs": [],
   "source": [
    "p_Model_res.to_csv(path_res+ \"/SVM_poly/poly_Model_res.csv\", index=False)\n",
    "p_Model_res.mean()"
   ]
  },
  {
   "cell_type": "code",
   "execution_count": null,
   "id": "07de5cf4",
   "metadata": {},
   "outputs": [],
   "source": [
    "p_CI_df.to_csv(path_res+ \"/SVM_poly/poly_CI_df.csv\", index=False)\n",
    "p_CI_df.mean()"
   ]
  },
  {
   "cell_type": "code",
   "execution_count": null,
   "id": "f698e501",
   "metadata": {},
   "outputs": [],
   "source": [
    "ml_plotting.plot_custom_roc_curve(p_ROC_AUC, p_ROC_chance, fname=path_res+ \"/SVM_poly/poly_ROC_AUC_curve.png\")"
   ]
  },
  {
   "cell_type": "code",
   "execution_count": null,
   "id": "f3b5e6b5",
   "metadata": {},
   "outputs": [],
   "source": [
    "ml_plotting.plot_boostrap_CM(p_CM, labels=['AD', 'FTD'],fname=path_res+ \"/SVM_poly/poly_CM.png\")"
   ]
  },
  {
   "cell_type": "markdown",
   "id": "0f4c2cc4",
   "metadata": {},
   "source": [
    "#### Permutation Feature importance"
   ]
  },
  {
   "cell_type": "code",
   "execution_count": null,
   "id": "d4c477e2",
   "metadata": {},
   "outputs": [],
   "source": [
    "p_fimp = bc.permutation_FIMP( data, 'diagnosis', SVC(), params=poly_params, test_size=.3, n_repeats=1000, random_state=123)\n",
    "p_fimp.sort_values('mean', ascending=False).to_csv(path_res+ \"/SVM_poly/poly_PFI.csv\")\n",
    "p_fimp.sort_values('mean', ascending=False)"
   ]
  },
  {
   "cell_type": "markdown",
   "id": "7b3ebd3f",
   "metadata": {},
   "source": [
    "#### Unseen data"
   ]
  },
  {
   "cell_type": "code",
   "execution_count": null,
   "id": "8b42b936",
   "metadata": {},
   "outputs": [],
   "source": [
    "### Split into AD and FTD\n",
    "train_data = train.query(\"diagnosis != 'CN'\")\n",
    "train_data['diagnosis'] = train_data['diagnosis'].replace({'AD':0, 'FTD':1})"
   ]
  },
  {
   "cell_type": "code",
   "execution_count": null,
   "id": "1c318082",
   "metadata": {},
   "outputs": [],
   "source": [
    "### Split into AD and FTD\n",
    "unseen_data = test.query(\"diagnosis != 'CN'\")\n",
    "unseen_data['diagnosis'] = unseen_data['diagnosis'].replace({'AD':0, 'FTD':1})\n",
    "train_data.shape, unseen_data.shape"
   ]
  },
  {
   "cell_type": "code",
   "execution_count": null,
   "id": "40a21bd8",
   "metadata": {},
   "outputs": [],
   "source": [
    "X_train, y_train = train_data.drop('diagnosis', axis=1), train_data[['diagnosis']]\n",
    "X_test, y_test = unseen_data.drop('diagnosis', axis=1), unseen_data[['diagnosis']]"
   ]
  },
  {
   "cell_type": "code",
   "execution_count": null,
   "id": "351f8c68",
   "metadata": {},
   "outputs": [],
   "source": [
    "poly = SVC(**poly_params)\n",
    "poly.fit(X_train, y_train)\n",
    "y_pred = poly.predict(X_test)\n",
    "roc = np.round(roc_auc_score(y_test, y_pred), 4)\n",
    "acc = np.round(accuracy_score(y_test, y_pred), 4)\n",
    "rec = np.round(recall_score(y_test, y_pred),4)\n",
    "f1 = np.round(f1_score(y_test, y_pred), 4)\n",
    "prec = np.round(precision_score(y_test, y_pred), 4)\n",
    "cm = np.round(confusion_matrix(y_test, y_pred), 4)"
   ]
  },
  {
   "cell_type": "code",
   "execution_count": null,
   "id": "a67ce245",
   "metadata": {},
   "outputs": [],
   "source": [
    "unseen_df = pd.DataFrame([roc, acc, rec, f1, prec, cm]).T\n",
    "unseen_df.columns= ['ROC AUC', 'Accuracy', 'Recall', 'F1', 'Precision', 'CM']\n",
    "unseen_df.to_csv(path_res+ \"/SVM_poly/poly_PFI.csv\")"
   ]
  },
  {
   "cell_type": "code",
   "execution_count": null,
   "id": "6e89959b",
   "metadata": {},
   "outputs": [],
   "source": [
    "print(f\"ROC score: {roc}\\nAccuracy: {acc}\\nRecall: {rec}\\nF1: {f1}\\nPrecision:{prec}\")\n",
    "print(f\"Unseen Data ROC score: \\t\\t{roc}\\nBootstrping test ROC score: \\t{p_Model_res['ROC_AUC'].mean():.4f}\")"
   ]
  },
  {
   "cell_type": "code",
   "execution_count": null,
   "id": "fa1193a9",
   "metadata": {},
   "outputs": [],
   "source": [
    "unseen_cm = { 'TP':cm[0,0], 'FN':cm[0,1],'FP':cm[1,0],'TN':cm[1,1]}\n",
    "ml_plotting.plot_boostrap_CM(unseen_cm, labels=['AD', 'FTD'])"
   ]
  },
  {
   "cell_type": "markdown",
   "id": "931a108f",
   "metadata": {},
   "source": [
    "### LightGBM"
   ]
  },
  {
   "cell_type": "markdown",
   "id": "e0acbcf4",
   "metadata": {},
   "source": [
    "#### Bootstrap"
   ]
  },
  {
   "cell_type": "code",
   "execution_count": null,
   "id": "4bbb822f",
   "metadata": {},
   "outputs": [],
   "source": [
    "lgb_Model_res, lgb_CI_df, lgb_Model_res_r, lgb_ROC_AUC, lgbCM, lgb_ROC_chance, lgb_empirical_p_value, _ = bc.Bootstrap_LGBM_classifier(\n",
    "    data, 'diagnosis',  params=lgbm_params, test_size=.2, scaler='MM', n_iter=5000, chance_model=True)"
   ]
  },
  {
   "cell_type": "code",
   "execution_count": null,
   "id": "82fb3cfd",
   "metadata": {},
   "outputs": [],
   "source": [
    "lgb_Model_res.to_csv(path_res+ \"/LightGBM/lgb_Model_res.csv\", index=False)\n",
    "lgb_Model_res.mean()"
   ]
  },
  {
   "cell_type": "code",
   "execution_count": null,
   "id": "783d1aea",
   "metadata": {},
   "outputs": [],
   "source": [
    "lgb_CI_df.to_csv(path_res+ \"/LightGBM/lgb_CI_df.csv\", index=False)\n",
    "lgb_CI_df"
   ]
  },
  {
   "cell_type": "code",
   "execution_count": null,
   "id": "d5d36157",
   "metadata": {},
   "outputs": [],
   "source": [
    "lgb_Model_res_r.sort_values('Importance_mean', ascending=False).to_csv(path_res+\"/LightGBM/lgb_CI_df.csv\", index=False)\n",
    "lgb_Model_res_r.sort_values('Importance_mean', ascending=False).head(10)"
   ]
  },
  {
   "cell_type": "code",
   "execution_count": null,
   "id": "0f6fbd60",
   "metadata": {},
   "outputs": [],
   "source": [
    "ml_plotting.plot_custom_roc_curve(lgb_ROC_AUC, lgb_ROC_chance, fname=path_res+ \"/LightGBM/lgb_ROC.png\")"
   ]
  },
  {
   "cell_type": "code",
   "execution_count": null,
   "id": "a4a6dcfb",
   "metadata": {},
   "outputs": [],
   "source": [
    "ml_plotting.plot_boostrap_CM(lgbCM, labels=['AD', 'FTD'],fname=path_res+ \"/LightGBM/lgb_CM.png\")"
   ]
  },
  {
   "cell_type": "markdown",
   "id": "3402cd67",
   "metadata": {},
   "source": [
    "#### Permutation Feature importance"
   ]
  },
  {
   "cell_type": "code",
   "execution_count": null,
   "id": "13599a25",
   "metadata": {},
   "outputs": [],
   "source": [
    "lgb_fimp = bc.permutation_FIMP( data, 'diagnosis', lightgbm.LGBMClassifier(), params=lgbm_params, test_size=.3, n_repeats=1000, random_state=123)\n",
    "lgb_fimp.sort_values('mean', ascending=False).to_csv(path_res+ \"/LightGBM/lgb_PFI.csv\")\n",
    "lgb_fimp.sort_values('mean', ascending=False).head()"
   ]
  },
  {
   "cell_type": "markdown",
   "id": "b53b2815",
   "metadata": {},
   "source": [
    "#### Unseen data"
   ]
  },
  {
   "cell_type": "code",
   "execution_count": null,
   "id": "39694497",
   "metadata": {},
   "outputs": [],
   "source": [
    "### Split into AD and FTD\n",
    "train_data = train.query(\"diagnosis != 'CN'\")\n",
    "train_data['diagnosis'] = train_data['diagnosis'].replace({'AD':0, 'FTD':1})\n",
    "\n",
    "### Split into AD and FTD\n",
    "unseen_data = test.query(\"diagnosis != 'CN'\")\n",
    "unseen_data['diagnosis'] = unseen_data['diagnosis'].replace({'AD':0, 'FTD':1})\n",
    "train_data.shape, unseen_data.shape"
   ]
  },
  {
   "cell_type": "code",
   "execution_count": null,
   "id": "593cae5e",
   "metadata": {},
   "outputs": [],
   "source": [
    "X_train, y_train = train_data.drop('diagnosis', axis=1), train_data[['diagnosis']]\n",
    "X_test, y_test = unseen_data.drop('diagnosis', axis=1), unseen_data[['diagnosis']]"
   ]
  },
  {
   "cell_type": "code",
   "execution_count": null,
   "id": "2aacb810",
   "metadata": {},
   "outputs": [],
   "source": [
    "lgb = lightgbm.LGBMClassifier(**lgbm_params)\n",
    "lgb.fit(X_train, y_train)\n",
    "y_pred = lgb.predict(X_test)\n",
    "roc = np.round(roc_auc_score(y_test, y_pred), 4)\n",
    "acc = np.round(accuracy_score(y_test, y_pred), 4)\n",
    "rec = np.round(recall_score(y_test, y_pred),4)\n",
    "f1 = np.round(f1_score(y_test, y_pred), 4)\n",
    "prec = np.round(precision_score(y_test, y_pred), 4)\n",
    "cm = np.round(confusion_matrix(y_test, y_pred), 4)"
   ]
  },
  {
   "cell_type": "code",
   "execution_count": null,
   "id": "ea442767",
   "metadata": {},
   "outputs": [],
   "source": [
    "unseen_df = pd.DataFrame([roc, acc, rec, f1, prec, cm]).T\n",
    "unseen_df.columns= ['ROC AUC', 'Accuracy', 'Recall', 'F1', 'Precision', 'CM']\n",
    "unseen_df.to_csv(path_res+ \"/LightGBM/lgb_PFI.csv\")"
   ]
  },
  {
   "cell_type": "code",
   "execution_count": null,
   "id": "597a3a9e",
   "metadata": {},
   "outputs": [],
   "source": [
    "print(f\"ROC score: {roc}\\nAccuracy: {acc}\\nRecall: {rec}\\nF1: {f1}\\nPrecision:{prec}\")\n",
    "print(f\"Unseen Data ROC score: \\t\\t{roc}\\nBootstrping test ROC score: \\t{lgb_Model_res['ROC_AUC'].mean():.4f}\")"
   ]
  },
  {
   "cell_type": "code",
   "execution_count": null,
   "id": "efd0eb37",
   "metadata": {},
   "outputs": [],
   "source": [
    "unseen_cm = { 'TP':cm[0,0], 'FN':cm[0,1],'FP':cm[1,0],'TN':cm[1,1]}\n",
    "ml_plotting.plot_boostrap_CM(unseen_cm, labels=['AD', 'FTD'])"
   ]
  },
  {
   "cell_type": "markdown",
   "id": "ed2cbe65",
   "metadata": {},
   "source": [
    "### XGBoost"
   ]
  },
  {
   "cell_type": "markdown",
   "id": "62054169",
   "metadata": {},
   "source": [
    "#### Bootstrap"
   ]
  },
  {
   "cell_type": "code",
   "execution_count": null,
   "id": "3ca52789",
   "metadata": {},
   "outputs": [],
   "source": [
    "xgb_Model_res, xgb_CI_df, xgb_Model_res_r, xgb_ROC_AUC, xgbCM, xgb_ROC_chance, xgb_empirical_p_value, _ = bc.Bootstrap_XGB_classifier(\n",
    "    data, 'diagnosis',  params=xgb_params, test_size=.2, scaler='MM', n_iter=5000, chance_model=True)"
   ]
  },
  {
   "cell_type": "code",
   "execution_count": null,
   "id": "9a065dfc",
   "metadata": {},
   "outputs": [],
   "source": [
    "xgb_Model_res.to_csv(path_res+ \"/XGBoost/xgb_Model_res.csv\", index=False)\n",
    "xgb_Model_res.mean()"
   ]
  },
  {
   "cell_type": "code",
   "execution_count": null,
   "id": "3a83d8d5",
   "metadata": {},
   "outputs": [],
   "source": [
    "xgb_Model_res_r.sort_values('Importance_gain_mean', ascending=False).to_csv(path_res+\"/XGBoost/xgb_Model_res_r.csv\", index=False)\n",
    "xgb_Model_res_r.sort_values('Importance_f_score_mean', ascending=False).head(10)"
   ]
  },
  {
   "cell_type": "code",
   "execution_count": null,
   "id": "e1351786",
   "metadata": {},
   "outputs": [],
   "source": [
    "xgb_CI_df.to_csv(path_res+ \"/XGBoost/xgb_CI_df.csv\", index=False)\n",
    "xgb_CI_df"
   ]
  },
  {
   "cell_type": "code",
   "execution_count": null,
   "id": "de7407b1",
   "metadata": {},
   "outputs": [],
   "source": [
    "ml_plotting.plot_custom_roc_curve(xgb_ROC_AUC, xgb_ROC_chance, fname=path_res+ \"/XGBoost/xgb_ROC.png\")"
   ]
  },
  {
   "cell_type": "code",
   "execution_count": null,
   "id": "359908af",
   "metadata": {},
   "outputs": [],
   "source": [
    "ml_plotting.plot_boostrap_CM(xgbCM, labels=['AD', 'FTD'],fname=path_res+ \"/XGBoost/xgb_CM.png\")"
   ]
  },
  {
   "cell_type": "markdown",
   "id": "dadb9379",
   "metadata": {},
   "source": [
    "#### Permutation Feature importance"
   ]
  },
  {
   "cell_type": "code",
   "execution_count": null,
   "id": "1ed77365",
   "metadata": {},
   "outputs": [],
   "source": [
    "xgb_fimp = bc.permutation_FIMP( data, 'diagnosis', xgboost.XGBClassifier(), params=xgb_params, test_size=.3, n_repeats=1000, random_state=123)\n",
    "xgb_fimp.sort_values('mean', ascending=False).to_csv(path_res+ \"/XGBoost/xgb_PFI.csv\")\n",
    "xgb_fimp.sort_values('mean', ascending=False)"
   ]
  },
  {
   "cell_type": "markdown",
   "id": "f012375e",
   "metadata": {},
   "source": [
    "#### Unseen data"
   ]
  },
  {
   "cell_type": "code",
   "execution_count": null,
   "id": "04bc7196",
   "metadata": {},
   "outputs": [],
   "source": [
    "### Split into AD and FTD\n",
    "train_data = train.query(\"diagnosis != 'CN'\")\n",
    "train_data['diagnosis'] = train_data['diagnosis'].replace({'AD':0, 'FTD':1})\n",
    "### Split into AD and FTD\n",
    "unseen_data = test.query(\"diagnosis != 'CN'\")\n",
    "unseen_data['diagnosis'] = unseen_data['diagnosis'].replace({'AD':0, 'FTD':1})\n",
    "train_data.shape, unseen_data.shape"
   ]
  },
  {
   "cell_type": "code",
   "execution_count": null,
   "id": "b1f0d47e",
   "metadata": {},
   "outputs": [],
   "source": [
    "X_train, y_train = train_data.drop('diagnosis', axis=1), train_data[['diagnosis']]\n",
    "X_test, y_test = unseen_data.drop('diagnosis', axis=1), unseen_data[['diagnosis']]"
   ]
  },
  {
   "cell_type": "code",
   "execution_count": null,
   "id": "7d7f273c",
   "metadata": {},
   "outputs": [],
   "source": [
    "xgb = xgboost.XGBClassifier(**xgb_params)\n",
    "xgb.fit(X_train, y_train)\n",
    "y_pred = xgb.predict(X_test)\n",
    "roc = np.round(roc_auc_score(y_test, y_pred), 4)\n",
    "acc = np.round(accuracy_score(y_test, y_pred), 4)\n",
    "rec = np.round(recall_score(y_test, y_pred),4)\n",
    "f1 = np.round(f1_score(y_test, y_pred), 4)\n",
    "prec = np.round(precision_score(y_test, y_pred), 4)\n",
    "cm = np.round(confusion_matrix(y_test, y_pred), 4)"
   ]
  },
  {
   "cell_type": "code",
   "execution_count": null,
   "id": "ec390534",
   "metadata": {},
   "outputs": [],
   "source": [
    "unseen_df = pd.DataFrame([roc, acc, rec, f1, prec, cm]).T\n",
    "unseen_df.columns= ['ROC AUC', 'Accuracy', 'Recall', 'F1', 'Precision', 'CM']\n",
    "unseen_df.to_csv(path_res+ \"/XGBoost/xgb_PFI.csv\")"
   ]
  },
  {
   "cell_type": "code",
   "execution_count": null,
   "id": "78b94198",
   "metadata": {},
   "outputs": [],
   "source": [
    "print(f\"ROC score: {roc}\\nAccuracy: {acc}\\nRecall: {rec}\\nF1: {f1}\\nPrecision:{prec}\")\n",
    "print(f\"Unseen Data ROC score: \\t\\t{roc}\\nBootstrping test ROC score: \\t{xgb_Model_res['ROC_AUC'].mean():.4f}\")"
   ]
  },
  {
   "cell_type": "code",
   "execution_count": null,
   "id": "0aecaab5",
   "metadata": {},
   "outputs": [],
   "source": [
    "unseen_cm = { 'TP':cm[0,0], 'FN':cm[0,1],'FP':cm[1,0],'TN':cm[1,1]}\n",
    "ml_plotting.plot_boostrap_CM(unseen_cm, labels=['AD', 'FTD'])"
   ]
  },
  {
   "cell_type": "code",
   "execution_count": null,
   "id": "686f3c28",
   "metadata": {},
   "outputs": [],
   "source": []
  },
  {
   "cell_type": "code",
   "execution_count": null,
   "id": "00e01ef4",
   "metadata": {},
   "outputs": [],
   "source": []
  }
 ],
 "metadata": {
  "kernelspec": {
   "display_name": "Python 3",
   "language": "python",
   "name": "python3"
  },
  "language_info": {
   "codemirror_mode": {
    "name": "ipython",
    "version": 3
   },
   "file_extension": ".py",
   "mimetype": "text/x-python",
   "name": "python",
   "nbconvert_exporter": "python",
   "pygments_lexer": "ipython3",
   "version": "3.8.8"
  },
  "toc": {
   "base_numbering": 1,
   "nav_menu": {},
   "number_sections": false,
   "sideBar": true,
   "skip_h1_title": false,
   "title_cell": "Table of Contents",
   "title_sidebar": "Contents",
   "toc_cell": false,
   "toc_position": {
    "height": "calc(100% - 180px)",
    "left": "10px",
    "top": "150px",
    "width": "300.971px"
   },
   "toc_section_display": true,
   "toc_window_display": true
  }
 },
 "nbformat": 4,
 "nbformat_minor": 5
}
